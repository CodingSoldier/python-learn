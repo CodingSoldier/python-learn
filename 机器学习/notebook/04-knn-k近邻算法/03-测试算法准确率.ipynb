{
 "cells": [
  {
   "cell_type": "code",
   "execution_count": 1,
   "metadata": {},
   "outputs": [],
   "source": [
    "import numpy as np\n",
    "import matplotlib.pyplot as plt\n",
    "from sklearn import datasets"
   ]
  },
  {
   "cell_type": "code",
   "execution_count": 7,
   "metadata": {},
   "outputs": [],
   "source": [
    "iris = datasets.load_iris()\n",
    "X = iris.data\n",
    "y = iris.target"
   ]
  },
  {
   "cell_type": "code",
   "execution_count": 5,
   "metadata": {},
   "outputs": [
    {
     "data": {
      "text/plain": [
       "(150, 4)"
      ]
     },
     "execution_count": 5,
     "metadata": {},
     "output_type": "execute_result"
    }
   ],
   "source": [
    "X.shape"
   ]
  },
  {
   "cell_type": "code",
   "execution_count": 6,
   "metadata": {},
   "outputs": [
    {
     "data": {
      "text/plain": [
       "(150,)"
      ]
     },
     "execution_count": 6,
     "metadata": {},
     "output_type": "execute_result"
    }
   ],
   "source": [
    "y.shape"
   ]
  },
  {
   "cell_type": "code",
   "execution_count": 8,
   "metadata": {},
   "outputs": [
    {
     "data": {
      "text/plain": [
       "array([105,  97, 101,  86, 112, 109,  82,  23,  64, 119,  68,  93,  70,\n",
       "        26,  16,  96,  21,   6, 142,  94,  62,  55,  37,  12,  27, 118,\n",
       "        35,  69,  67, 145,   3,  79, 135, 139, 131,  32, 146,  29, 132,\n",
       "        63,  47,  49,  15,  89, 124,  80,  66,  76,  75,  25,  65,  46,\n",
       "       107,  52, 121,  98, 141, 136,  88,  24,  22,  19, 147,   1, 144,\n",
       "       100,   0,  14, 134, 122,   5,  31,  85,  58, 110, 103,  83,  48,\n",
       "        42, 129,  13, 111,  54,  72,  78,  99,  28,   7, 120,  59,   9,\n",
       "       133, 126,  38, 116, 137,  71,  40, 108, 115,  11,  41, 143,  57,\n",
       "       148,   2,  30,  51,  95,  53, 128,  61,  36,  50, 127,   4,  18,\n",
       "        56,  84,  73, 138, 125,  10, 104,  33,  92,  39,  34,  60, 117,\n",
       "        17,  45,  44,  81,  20,  91, 106, 123, 140, 130,  77,  90,  43,\n",
       "        74,  87, 102, 113,   8, 114, 149])"
      ]
     },
     "execution_count": 8,
     "metadata": {},
     "output_type": "execute_result"
    }
   ],
   "source": [
    "# [0, len(X)]的随机排列\n",
    "shuffle_indexes = np.random.permutation(len(X))\n",
    "shuffle_indexes"
   ]
  },
  {
   "cell_type": "code",
   "execution_count": 9,
   "metadata": {},
   "outputs": [
    {
     "data": {
      "text/plain": [
       "30"
      ]
     },
     "execution_count": 9,
     "metadata": {},
     "output_type": "execute_result"
    }
   ],
   "source": [
    "# 测试数据集的大小\n",
    "test_ratio = 0.2\n",
    "test_size = int(len(X) * test_ratio)\n",
    "test_size"
   ]
  },
  {
   "cell_type": "code",
   "execution_count": 14,
   "metadata": {},
   "outputs": [
    {
     "name": "stdout",
     "output_type": "stream",
     "text": [
      "(120, 4)\n",
      "(120,)\n",
      "(30, 4)\n",
      "(30,)\n"
     ]
    }
   ],
   "source": [
    "# 前20%是测试数据集\n",
    "test_indexes = shuffle_indexes[:test_size]\n",
    "# 后80%是训练数据集\n",
    "train_indexes = shuffle_indexes[test_size:]\n",
    "\n",
    "# 训练数据集\n",
    "X_train = X[train_indexes]\n",
    "y_train = y[train_indexes]\n",
    "\n",
    "# 测试数据集\n",
    "X_test = X[test_indexes]\n",
    "y_test = y[test_indexes]\n",
    "\n",
    "print(X_train.shape)\n",
    "print(y_train.shape)\n",
    "print(X_test.shape)\n",
    "print(y_test.shape)"
   ]
  },
  {
   "cell_type": "markdown",
   "metadata": {},
   "source": [
    "# 使用我们的包算法"
   ]
  },
  {
   "cell_type": "code",
   "execution_count": 15,
   "metadata": {},
   "outputs": [],
   "source": [
    "from playML.model_selection import train_test_split"
   ]
  },
  {
   "cell_type": "code",
   "execution_count": 18,
   "metadata": {},
   "outputs": [
    {
     "name": "stdout",
     "output_type": "stream",
     "text": [
      "(120, 4)\n",
      "(120,)\n",
      "(30, 4)\n",
      "(30,)\n"
     ]
    }
   ],
   "source": [
    "X_train, X_test, y_train, y_test = train_test_split(X, y)\n",
    "print(X_train.shape)\n",
    "print(y_train.shape)\n",
    "print(X_test.shape)\n",
    "print(y_test.shape)"
   ]
  },
  {
   "cell_type": "code",
   "execution_count": 29,
   "metadata": {},
   "outputs": [
    {
     "name": "stdout",
     "output_type": "stream",
     "text": [
      "[0 1 1 2 2 1 2 0 2 1 2 0 1 2 1 1 2 1 1 1 2 0 0 1 1 1 0 0 0 0]\n",
      "[0 1 1 2 2 1 2 0 1 1 2 0 1 2 1 1 2 1 1 1 2 0 0 1 1 1 0 0 0 0]\n"
     ]
    },
    {
     "data": {
      "text/plain": [
       "96.66666666666667"
      ]
     },
     "execution_count": 29,
     "metadata": {},
     "output_type": "execute_result"
    }
   ],
   "source": [
    "# 使用我们的算法预测X_test\n",
    "\n",
    "from playML.kNN import KNNClassifier\n",
    "\n",
    "# 给算法传入训练数据集 X_train、y_train\n",
    "my_knn_clf = KNNClassifier(k=3)\n",
    "my_knn_clf.fit(X_train, y_train)\n",
    "\n",
    "# 预测X_test\n",
    "y_predict = my_knn_clf.predict(X_test)\n",
    "# 预测结果\n",
    "print(y_predict)\n",
    "# 真实结果\n",
    "print(y_test)\n",
    "# 预测准确率\n",
    "sum(y_predict==y_test)/len(y_test) * 100"
   ]
  },
  {
   "cell_type": "code",
   "execution_count": null,
   "metadata": {},
   "outputs": [],
   "source": []
  }
 ],
 "metadata": {
  "kernelspec": {
   "display_name": "Python 3",
   "language": "python",
   "name": "python3"
  },
  "language_info": {
   "codemirror_mode": {
    "name": "ipython",
    "version": 3
   },
   "file_extension": ".py",
   "mimetype": "text/x-python",
   "name": "python",
   "nbconvert_exporter": "python",
   "pygments_lexer": "ipython3",
   "version": "3.7.4"
  }
 },
 "nbformat": 4,
 "nbformat_minor": 2
}
