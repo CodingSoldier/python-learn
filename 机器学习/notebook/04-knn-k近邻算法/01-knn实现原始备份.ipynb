{
 "cells": [
  {
   "cell_type": "markdown",
   "metadata": {},
   "source": [
    "# K近邻算法"
   ]
  },
  {
   "cell_type": "code",
   "execution_count": 42,
   "metadata": {},
   "outputs": [],
   "source": [
    "import numpy as np\n",
    "import matplotlib.pyplot as plt"
   ]
  },
  {
   "cell_type": "code",
   "execution_count": 43,
   "metadata": {},
   "outputs": [],
   "source": [
    "# 初始化训练数据raw_data_x ，raw_data_y\n",
    "raw_data_x = [[3.3935, 2.3321],\n",
    " [3.1100, 1.7815],\n",
    " [1.3438, 3.3683],\n",
    " [3.5822, 4.6791],\n",
    " [2.2803, 2.8669],\n",
    " [7.4234, 4.6965],\n",
    " [5.7450, 3.5339],\n",
    " [9.1721, 2.5111],\n",
    " [7.7927, 3.4240],\n",
    " [7.9398, 0.7916]]\n",
    "\n",
    "raw_data_y = [0, 0, 0, 0, 0, 1, 1, 1, 1, 1]"
   ]
  },
  {
   "cell_type": "code",
   "execution_count": 44,
   "metadata": {
    "scrolled": true
   },
   "outputs": [
    {
     "data": {
      "text/plain": [
       "array([[3.3935, 2.3321],\n",
       "       [3.11  , 1.7815],\n",
       "       [1.3438, 3.3683],\n",
       "       [3.5822, 4.6791],\n",
       "       [2.2803, 2.8669],\n",
       "       [7.4234, 4.6965],\n",
       "       [5.745 , 3.5339],\n",
       "       [9.1721, 2.5111],\n",
       "       [7.7927, 3.424 ],\n",
       "       [7.9398, 0.7916]])"
      ]
     },
     "execution_count": 44,
     "metadata": {},
     "output_type": "execute_result"
    }
   ],
   "source": [
    "# 装换为numpy数组\n",
    "X_train = np.array(raw_data_x)\n",
    "y_train = np.array(raw_data_y)\n",
    "\n",
    "# X_train是二维数组，在数学上就是矩阵，机器学习中很多运算都是矩阵运算\n",
    "X_train"
   ]
  },
  {
   "cell_type": "code",
   "execution_count": 39,
   "metadata": {},
   "outputs": [
    {
     "data": {
      "text/plain": [
       "(10, 2)"
      ]
     },
     "execution_count": 39,
     "metadata": {},
     "output_type": "execute_result"
    }
   ],
   "source": [
    "x_train.shape"
   ]
  },
  {
   "cell_type": "code",
   "execution_count": 45,
   "metadata": {},
   "outputs": [
    {
     "data": {
      "text/plain": [
       "array([0, 0, 0, 0, 0, 1, 1, 1, 1, 1])"
      ]
     },
     "execution_count": 45,
     "metadata": {},
     "output_type": "execute_result"
    }
   ],
   "source": [
    "# 设置target，假设0是良性肿瘤，1是恶性肿瘤\n",
    "y_train"
   ]
  },
  {
   "cell_type": "code",
   "execution_count": 14,
   "metadata": {},
   "outputs": [
    {
     "data": {
      "text/plain": [
       "array([ True,  True,  True,  True,  True, False, False, False, False,\n",
       "       False])"
      ]
     },
     "execution_count": 14,
     "metadata": {},
     "output_type": "execute_result"
    }
   ],
   "source": [
    "# y_train==0结果是一个boolean数组\n",
    "y_train==0"
   ]
  },
  {
   "cell_type": "code",
   "execution_count": 15,
   "metadata": {},
   "outputs": [
    {
     "data": {
      "text/plain": [
       "array([3.3935, 3.11  , 1.3438, 3.5822, 2.2803])"
      ]
     },
     "execution_count": 15,
     "metadata": {},
     "output_type": "execute_result"
    }
   ],
   "source": [
    "# 通过boolean数组y_train==0取x_train向量中的前5行，第一列数据\n",
    "x_train[y_train==0, 0]"
   ]
  },
  {
   "cell_type": "code",
   "execution_count": 18,
   "metadata": {},
   "outputs": [
    {
     "data": {
      "text/plain": [
       "array([2.3321, 1.7815, 3.3683, 4.6791, 2.8669])"
      ]
     },
     "execution_count": 18,
     "metadata": {},
     "output_type": "execute_result"
    }
   ],
   "source": [
    "# 通过boolean数组y_train==0取x_train向量中的前5行，第二列数据\n",
    "x_train[y_train==0, 1]"
   ]
  },
  {
   "cell_type": "code",
   "execution_count": 41,
   "metadata": {},
   "outputs": [
    {
     "data": {
      "image/png": "[encoded data removed]",
      "text/plain": [
       "<Figure size 432x288 with 1 Axes>"
      ]
     },
     "metadata": {
      "needs_background": "light"
     },
     "output_type": "display_data"
    }
   ],
   "source": [
    "# 数据在特征平面中的位置\n",
    "\n",
    "# x_train向量中的前5行，第一列数据 作为x轴。x_train向量中的前5行，第二列数据 作为y轴，绘制绿色散点图\n",
    "plt.scatter(x_train[y_train==0, 0], x_train[y_train==0,1], color='g')\n",
    "\n",
    "# x_train向量中的后5行，第一列数据 作为x轴。x_train向量中的后5行，第二列数据 作为y轴，绘制红色散点图\n",
    "plt.scatter(x_train[y_train==1, 0], x_train[y_train==1,1], color='r')\n",
    "\n",
    "plt.show()"
   ]
  },
  {
   "cell_type": "code",
   "execution_count": 23,
   "metadata": {},
   "outputs": [
    {
     "data": {
      "image/png": "[encoded data removed]",
      "text/plain": [
       "<Figure size 432x288 with 1 Axes>"
      ]
     },
     "metadata": {
      "needs_background": "light"
     },
     "output_type": "display_data"
    }
   ],
   "source": [
    "plt.scatter(x_train[y_train==0, 0], x_train[y_train==0,1], color='g')\n",
    "plt.scatter(x_train[y_train==1, 0], x_train[y_train==1,1], color='r')\n",
    "\n",
    "# 添加一个新的点到图中\n",
    "# 使用KNN算法分析结果，x属于恶性肿瘤\n",
    "x = np.array([8.0936, 3.3657])\n",
    "plt.scatter(x[0], x[1], color='b')\n",
    "plt.show()"
   ]
  },
  {
   "cell_type": "code",
   "execution_count": 26,
   "metadata": {},
   "outputs": [
    {
     "data": {
      "text/plain": [
       "[4.812407814182003,\n",
       " 5.22933634412628,\n",
       " 6.749800500755559,\n",
       " 4.698696576711461,\n",
       " 5.834660086928801,\n",
       " 1.4900324425998253,\n",
       " 2.354615297665417,\n",
       " 1.3760462964595341,\n",
       " 0.3064958401022765,\n",
       " 2.578690607653427]"
      ]
     },
     "execution_count": 26,
     "metadata": {},
     "output_type": "execute_result"
    }
   ],
   "source": [
    "# 计算x到x_train所有点的距离\n",
    "from math import sqrt\n",
    "# 存储距离\n",
    "distances = []\n",
    "# 遍历二维数组x_train\n",
    "for dot in x_train:\n",
    "    # 计算坐标系中两点之间的距离\n",
    "    # 点dot的x、y坐标值 减去 点x的x、y坐标值，再平方\n",
    "    # (np.sum((dot - x)**2) 即 (x1 - x0)^2 + (y1 -y0)^2\n",
    "    # sqrt 计算平方根\n",
    "    # d就是两点之间的距离\n",
    "    d = sqrt(np.sum((dot - x)**2))\n",
    "    distances.append(d)\n",
    "\n",
    "distances"
   ]
  },
  {
   "cell_type": "code",
   "execution_count": 28,
   "metadata": {},
   "outputs": [
    {
     "data": {
      "text/plain": [
       "[4.812407814182003,\n",
       " 5.22933634412628,\n",
       " 6.749800500755559,\n",
       " 4.698696576711461,\n",
       " 5.834660086928801,\n",
       " 1.4900324425998253,\n",
       " 2.354615297665417,\n",
       " 1.3760462964595341,\n",
       " 0.3064958401022765,\n",
       " 2.578690607653427]"
      ]
     },
     "execution_count": 28,
     "metadata": {},
     "output_type": "execute_result"
    }
   ],
   "source": [
    "# 使用python中的生成表达式\n",
    "distances = [sqrt(np.sum((dot -x)**2)) for dot in x_train]\n",
    "distances"
   ]
  },
  {
   "cell_type": "code",
   "execution_count": 30,
   "metadata": {},
   "outputs": [
    {
     "data": {
      "text/plain": [
       "array([8, 7, 5, 6, 9, 3, 0, 1, 4, 2], dtype=int64)"
      ]
     },
     "execution_count": 30,
     "metadata": {},
     "output_type": "execute_result"
    }
   ],
   "source": [
    "# 对距离数组distances排序，获取排序后的索引值\n",
    "nearest = np.argsort((distances))\n",
    "# nearest 就是距离x点，从近到远 的点\n",
    "nearest"
   ]
  },
  {
   "cell_type": "code",
   "execution_count": 31,
   "metadata": {},
   "outputs": [
    {
     "data": {
      "text/plain": [
       "[1, 1, 1, 1, 1, 0]"
      ]
     },
     "execution_count": 31,
     "metadata": {},
     "output_type": "execute_result"
    }
   ],
   "source": [
    "# 假设k是6，求和x距离最近的6个点的分类\n",
    "k = 6;\n",
    "top_k_target = [y_train[i] for i in nearest[:k]]\n",
    "top_k_target\n",
    "# 结果中有5个属于恶性肿瘤，1个属于良性肿瘤"
   ]
  },
  {
   "cell_type": "code",
   "execution_count": 34,
   "metadata": {},
   "outputs": [
    {
     "data": {
      "text/plain": [
       "Counter({1: 5, 0: 1})"
      ]
     },
     "execution_count": 34,
     "metadata": {},
     "output_type": "execute_result"
    }
   ],
   "source": [
    "from collections import Counter\n",
    "# 统计元素出现的个数\n",
    "# 1出现5次，0出现1次\n",
    "votes = Counter(top_k_target)\n",
    "votes"
   ]
  },
  {
   "cell_type": "code",
   "execution_count": 35,
   "metadata": {},
   "outputs": [
    {
     "data": {
      "text/plain": [
       "[(1, 5)]"
      ]
     },
     "execution_count": 35,
     "metadata": {},
     "output_type": "execute_result"
    }
   ],
   "source": [
    "# 找出票数最多的元素\n",
    "votes.most_common(1)"
   ]
  },
  {
   "cell_type": "code",
   "execution_count": 37,
   "metadata": {},
   "outputs": [
    {
     "data": {
      "text/plain": [
       "1"
      ]
     },
     "execution_count": 37,
     "metadata": {},
     "output_type": "execute_result"
    }
   ],
   "source": [
    "# votes.most_common(1)[0]是一个元组，取元组的第一个元素\n",
    "predict_target = votes.most_common(1)[0][0]\n",
    "predict_target"
   ]
  },
  {
   "cell_type": "code",
   "execution_count": null,
   "metadata": {},
   "outputs": [],
   "source": []
  }
 ],
 "metadata": {
  "kernelspec": {
   "display_name": "Python 3",
   "language": "python",
   "name": "python3"
  },
  "language_info": {
   "codemirror_mode": {
    "name": "ipython",
    "version": 3
   },
   "file_extension": ".py",
   "mimetype": "text/x-python",
   "name": "python",
   "nbconvert_exporter": "python",
   "pygments_lexer": "ipython3",
   "version": "3.7.4"
  }
 },
 "nbformat": 4,
 "nbformat_minor": 2
}
