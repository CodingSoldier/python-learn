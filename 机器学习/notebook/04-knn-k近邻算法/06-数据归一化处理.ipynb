{
 "cells": [
  {
   "cell_type": "code",
   "execution_count": 2,
   "metadata": {},
   "outputs": [],
   "source": [
    "import numpy as np\n",
    "import matplotlib.pyplot as plt"
   ]
  },
  {
   "cell_type": "code",
   "execution_count": 3,
   "metadata": {},
   "outputs": [
    {
     "data": {
      "text/plain": [
       "array([77, 51, 62, 48, 12, 29, 32, 72, 90,  9, 26,  5, 56, 18, 54, 86, 92,\n",
       "       89, 65, 62,  0, 57, 17, 85, 52, 52, 18, 12, 17, 26,  7, 91, 26, 39,\n",
       "       48, 98,  8, 41, 32, 19, 98, 48, 71, 13, 92, 32, 71,  8,  1, 99, 68,\n",
       "       88, 29, 15, 33, 52, 62, 85, 74, 26, 94,  8, 29, 14,  5, 41, 23, 17,\n",
       "       89, 59, 10, 51, 50, 25, 99, 84, 52, 29, 13, 66, 97, 79, 41, 46, 78,\n",
       "        0, 87, 19, 77,  6, 48, 16,  6, 49, 83, 18, 46, 88, 40,  2])"
      ]
     },
     "execution_count": 3,
     "metadata": {},
     "output_type": "execute_result"
    }
   ],
   "source": [
    "x = np.random.randint(0, 100, size=100)\n",
    "x"
   ]
  },
  {
   "cell_type": "markdown",
   "metadata": {},
   "source": [
    "## 最值归一化，数值在0~1之间\n",
    "#### 适用于数据分布有明显边界，没有极端数据值的数据集"
   ]
  },
  {
   "cell_type": "code",
   "execution_count": 4,
   "metadata": {},
   "outputs": [
    {
     "data": {
      "text/plain": [
       "array([0.77777778, 0.51515152, 0.62626263, 0.48484848, 0.12121212,\n",
       "       0.29292929, 0.32323232, 0.72727273, 0.90909091, 0.09090909,\n",
       "       0.26262626, 0.05050505, 0.56565657, 0.18181818, 0.54545455,\n",
       "       0.86868687, 0.92929293, 0.8989899 , 0.65656566, 0.62626263,\n",
       "       0.        , 0.57575758, 0.17171717, 0.85858586, 0.52525253,\n",
       "       0.52525253, 0.18181818, 0.12121212, 0.17171717, 0.26262626,\n",
       "       0.07070707, 0.91919192, 0.26262626, 0.39393939, 0.48484848,\n",
       "       0.98989899, 0.08080808, 0.41414141, 0.32323232, 0.19191919,\n",
       "       0.98989899, 0.48484848, 0.71717172, 0.13131313, 0.92929293,\n",
       "       0.32323232, 0.71717172, 0.08080808, 0.01010101, 1.        ,\n",
       "       0.68686869, 0.88888889, 0.29292929, 0.15151515, 0.33333333,\n",
       "       0.52525253, 0.62626263, 0.85858586, 0.74747475, 0.26262626,\n",
       "       0.94949495, 0.08080808, 0.29292929, 0.14141414, 0.05050505,\n",
       "       0.41414141, 0.23232323, 0.17171717, 0.8989899 , 0.5959596 ,\n",
       "       0.1010101 , 0.51515152, 0.50505051, 0.25252525, 1.        ,\n",
       "       0.84848485, 0.52525253, 0.29292929, 0.13131313, 0.66666667,\n",
       "       0.97979798, 0.7979798 , 0.41414141, 0.46464646, 0.78787879,\n",
       "       0.        , 0.87878788, 0.19191919, 0.77777778, 0.06060606,\n",
       "       0.48484848, 0.16161616, 0.06060606, 0.49494949, 0.83838384,\n",
       "       0.18181818, 0.46464646, 0.88888889, 0.4040404 , 0.02020202])"
      ]
     },
     "execution_count": 4,
     "metadata": {},
     "output_type": "execute_result"
    }
   ],
   "source": [
    "(x - np.min(x)) / (np.max(x) - np.min(x)) "
   ]
  },
  {
   "cell_type": "code",
   "execution_count": 5,
   "metadata": {},
   "outputs": [
    {
     "data": {
      "text/plain": [
       "array([[35, 77],\n",
       "       [53, 27],\n",
       "       [58, 56],\n",
       "       [66, 23],\n",
       "       [49, 48],\n",
       "       [28,  2],\n",
       "       [ 1, 94],\n",
       "       [91, 38],\n",
       "       [ 0, 87],\n",
       "       [34, 38]])"
      ]
     },
     "execution_count": 5,
     "metadata": {},
     "output_type": "execute_result"
    }
   ],
   "source": [
    "# 矩阵归一化\n",
    "X = np.random.randint(0, 100, (50, 2))\n",
    "X[:10, :]"
   ]
  },
  {
   "cell_type": "code",
   "execution_count": 6,
   "metadata": {},
   "outputs": [
    {
     "data": {
      "text/plain": [
       "array([[35., 77.],\n",
       "       [53., 27.],\n",
       "       [58., 56.],\n",
       "       [66., 23.],\n",
       "       [49., 48.],\n",
       "       [28.,  2.],\n",
       "       [ 1., 94.],\n",
       "       [91., 38.],\n",
       "       [ 0., 87.],\n",
       "       [34., 38.]])"
      ]
     },
     "execution_count": 6,
     "metadata": {},
     "output_type": "execute_result"
    }
   ],
   "source": [
    "# 转为浮点型\n",
    "X = np.array(X, dtype=float)\n",
    "X[:10, :]"
   ]
  },
  {
   "cell_type": "code",
   "execution_count": 9,
   "metadata": {
    "scrolled": true
   },
   "outputs": [
    {
     "name": "stdout",
     "output_type": "stream",
     "text": [
      "[0.35353535 0.53535354 0.58585859 0.66666667 0.49494949 0.28282828\n",
      " 0.01010101 0.91919192 0.         0.34343434 0.44444444 0.01010101\n",
      " 0.37373737 0.85858586 0.48484848 0.47474747 0.7979798  0.17171717\n",
      " 0.7979798  1.         0.56565657 0.38383838 0.26262626 0.16161616\n",
      " 0.55555556 0.17171717 0.4040404  0.16161616 0.11111111 0.54545455\n",
      " 0.17171717 0.93939394 0.06060606 0.65656566 0.68686869 0.93939394\n",
      " 0.22222222 0.28282828 0.         0.95959596 0.7979798  0.02020202\n",
      " 0.84848485 0.31313131 0.46464646 0.12121212 0.75757576 0.68686869\n",
      " 0.3030303  0.91919192]\n",
      "[0.8        0.27368421 0.57894737 0.23157895 0.49473684 0.01052632\n",
      " 0.97894737 0.38947368 0.90526316 0.38947368 0.8        0.01052632\n",
      " 0.41052632 0.48421053 0.11578947 0.4        0.15789474 0.69473684\n",
      " 0.77894737 0.2        0.58947368 0.93684211 0.42105263 0.56842105\n",
      " 0.09473684 0.17894737 0.07368421 0.44210526 0.34736842 0.73684211\n",
      " 0.12631579 0.47368421 0.97894737 0.33684211 0.82105263 0.6\n",
      " 0.90526316 0.72631579 0.98947368 0.83157895 1.         0.\n",
      " 0.52631579 0.12631579 0.53684211 0.90526316 0.45263158 0.10526316\n",
      " 0.49473684 0.06315789]\n"
     ]
    }
   ],
   "source": [
    "# 矩阵最值归一化\n",
    "X[:, 0] = (X[:, 0] - np.min(X[:, 0])) / (np.max(X[:, 0]) - np.min(X[:, 0]))\n",
    "X[:, 1] = (X[:, 1] - np.min(X[:, 1])) / (np.max(X[:, 1]) - np.min(X[:, 1]))\n",
    "print(X[:, 0])\n",
    "print(X[:, 1])"
   ]
  },
  {
   "cell_type": "code",
   "execution_count": 11,
   "metadata": {},
   "outputs": [
    {
     "data": {
      "image/png": "[encoded data removed]",
      "text/plain": [
       "<Figure size 432x288 with 1 Axes>"
      ]
     },
     "metadata": {
      "needs_background": "light"
     },
     "output_type": "display_data"
    }
   ],
   "source": [
    "# 绘制数据样本\n",
    "plt.scatter(X[:, 0], X[:, 1])\n",
    "plt.show()"
   ]
  },
  {
   "cell_type": "code",
   "execution_count": 14,
   "metadata": {},
   "outputs": [
    {
     "name": "stdout",
     "output_type": "stream",
     "text": [
      "0.46161616161616165\n",
      "0.2996597056493892\n"
     ]
    }
   ],
   "source": [
    "# 查看均值\n",
    "print(np.mean(X[:, 0]))\n",
    "# 查看方差\n",
    "print(np.std(X[:, 0]))"
   ]
  },
  {
   "cell_type": "markdown",
   "metadata": {},
   "source": [
    "## 均值方差归一化 Standardization\n",
    "### 把所有数据归一到均值为0方差为1的分布中\n",
    "#### 适用于数据分布没有明显边界、有可能存在极端数据值的数据集\n",
    "#### ( x - 平均值 ) / 方差"
   ]
  },
  {
   "cell_type": "code",
   "execution_count": 32,
   "metadata": {},
   "outputs": [
    {
     "data": {
      "image/png": "[encoded data removed]",
      "text/plain": [
       "<Figure size 432x288 with 1 Axes>"
      ]
     },
     "metadata": {
      "needs_background": "light"
     },
     "output_type": "display_data"
    }
   ],
   "source": [
    "X2 = np.random.randint(0, 100, (50, 2))\n",
    "X2 = np.array(X2, dtype=float)\n",
    "\n",
    "X2[:, 0] = (X2[:, 0] - np.mean(X2[:, 0])) / np.std(X2[:, 0])\n",
    "X2[:, 1] = (X2[:, 1] - np.mean(X2[:, 1])) / np.std(X2[:, 1])\n",
    "\n",
    "plt.scatter(X2[:, 0], X2[:, 1])\n",
    "plt.show()"
   ]
  },
  {
   "cell_type": "code",
   "execution_count": 33,
   "metadata": {},
   "outputs": [
    {
     "data": {
      "text/plain": [
       "1.1102230246251565e-16"
      ]
     },
     "execution_count": 33,
     "metadata": {},
     "output_type": "execute_result"
    }
   ],
   "source": [
    "np.mean(X2[:, 0])"
   ]
  },
  {
   "cell_type": "code",
   "execution_count": 36,
   "metadata": {},
   "outputs": [
    {
     "data": {
      "text/plain": [
       "1.0"
      ]
     },
     "execution_count": 36,
     "metadata": {},
     "output_type": "execute_result"
    }
   ],
   "source": [
    "np.std(X2[:, 0])"
   ]
  },
  {
   "cell_type": "code",
   "execution_count": 37,
   "metadata": {},
   "outputs": [
    {
     "data": {
      "text/plain": [
       "1.0"
      ]
     },
     "execution_count": 37,
     "metadata": {},
     "output_type": "execute_result"
    }
   ],
   "source": [
    "np.std(X2[:, 1])"
   ]
  },
  {
   "cell_type": "code",
   "execution_count": null,
   "metadata": {},
   "outputs": [],
   "source": []
  }
 ],
 "metadata": {
  "kernelspec": {
   "display_name": "Python 3",
   "language": "python",
   "name": "python3"
  },
  "language_info": {
   "codemirror_mode": {
    "name": "ipython",
    "version": 3
   },
   "file_extension": ".py",
   "mimetype": "text/x-python",
   "name": "python",
   "nbconvert_exporter": "python",
   "pygments_lexer": "ipython3",
   "version": "3.7.4"
  }
 },
 "nbformat": 4,
 "nbformat_minor": 2
}
