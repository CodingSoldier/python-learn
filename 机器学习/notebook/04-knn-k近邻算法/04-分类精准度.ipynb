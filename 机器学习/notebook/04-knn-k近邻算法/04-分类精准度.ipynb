{
 "cells": [
  {
   "cell_type": "code",
   "execution_count": 1,
   "metadata": {},
   "outputs": [],
   "source": [
    "import numpy as np\n",
    "import matplotlib\n",
    "import matplotlib.pyplot as plt\n",
    "from sklearn import datasets"
   ]
  },
  {
   "cell_type": "code",
   "execution_count": 2,
   "metadata": {},
   "outputs": [
    {
     "data": {
      "text/plain": [
       "dict_keys(['data', 'target', 'target_names', 'images', 'DESCR'])"
      ]
     },
     "execution_count": 2,
     "metadata": {},
     "output_type": "execute_result"
    }
   ],
   "source": [
    "digits = datasets.load_digits()\n",
    "# 特征\n",
    "digits.keys()"
   ]
  },
  {
   "cell_type": "code",
   "execution_count": 3,
   "metadata": {},
   "outputs": [
    {
     "data": {
      "text/plain": [
       "(1797, 64)"
      ]
     },
     "execution_count": 3,
     "metadata": {},
     "output_type": "execute_result"
    }
   ],
   "source": [
    "X = digits.data\n",
    "X.shape"
   ]
  },
  {
   "cell_type": "code",
   "execution_count": 4,
   "metadata": {},
   "outputs": [
    {
     "data": {
      "text/plain": [
       "(1797,)"
      ]
     },
     "execution_count": 4,
     "metadata": {},
     "output_type": "execute_result"
    }
   ],
   "source": [
    "y = digits.target\n",
    "y.shape"
   ]
  },
  {
   "cell_type": "code",
   "execution_count": 5,
   "metadata": {},
   "outputs": [
    {
     "data": {
      "text/plain": [
       "array([0, 1, 2, ..., 8, 9, 8])"
      ]
     },
     "execution_count": 5,
     "metadata": {},
     "output_type": "execute_result"
    }
   ],
   "source": [
    "y"
   ]
  },
  {
   "cell_type": "code",
   "execution_count": 6,
   "metadata": {},
   "outputs": [
    {
     "data": {
      "text/plain": [
       "array([ 0.,  0.,  5., 15., 14.,  3.,  0.,  0.,  0.,  0., 13., 15.,  9.,\n",
       "       15.,  2.,  0.,  0.,  4., 16., 12.,  0., 10.,  6.,  0.,  0.,  8.,\n",
       "       16.,  9.,  0.,  8., 10.,  0.,  0.,  7., 15.,  5.,  0., 12., 11.,\n",
       "        0.,  0.,  7., 13.,  0.,  5., 16.,  6.,  0.,  0.,  0., 16., 12.,\n",
       "       15., 13.,  1.,  0.,  0.,  0.,  6., 16., 12.,  2.,  0.,  0.])"
      ]
     },
     "execution_count": 6,
     "metadata": {},
     "output_type": "execute_result"
    }
   ],
   "source": [
    "X[666]"
   ]
  },
  {
   "cell_type": "code",
   "execution_count": 7,
   "metadata": {},
   "outputs": [
    {
     "data": {
      "image/png": "[encoded data removed]",
      "text/plain": [
       "<Figure size 432x288 with 1 Axes>"
      ]
     },
     "metadata": {
      "needs_background": "light"
     },
     "output_type": "display_data"
    }
   ],
   "source": [
    "some_digit_image = X[666].reshape(8, 8)\n",
    "plt.imshow(some_digit_image, cmap = matplotlib.cm.binary)\n",
    "plt.show()"
   ]
  },
  {
   "cell_type": "code",
   "execution_count": 8,
   "metadata": {},
   "outputs": [
    {
     "data": {
      "text/plain": [
       "array([3, 9, 2, 4, 2, 7, 2, 7, 8, 6, 8, 9, 3, 7, 2, 2, 0, 8, 1, 3, 8, 1,\n",
       "       6, 3, 2, 0, 7, 7, 3, 3, 4, 0, 1, 8, 0, 2, 5, 6, 1, 7, 1, 8, 9, 2,\n",
       "       1, 5, 9, 3, 8, 8, 7, 5, 8, 1, 1, 6, 0, 6, 2, 1, 4, 8, 9, 4, 5, 4,\n",
       "       4, 9, 6, 2, 8, 2, 2, 7, 5, 8, 7, 9, 4, 4, 0, 0, 5, 8, 7, 1, 5, 4,\n",
       "       0, 9, 4, 5, 5, 8, 3, 4, 3, 6, 4, 1, 9, 0, 2, 1, 2, 3, 6, 7, 9, 2,\n",
       "       8, 5, 1, 2, 1, 4, 6, 1, 8, 6, 2, 1, 8, 5, 5, 6, 1, 1, 7, 2, 6, 3,\n",
       "       4, 0, 3, 0, 2, 6, 5, 4, 4, 9, 0, 4, 9, 5, 6, 2, 7, 5, 1, 0, 9, 2,\n",
       "       9, 3, 0, 2, 7, 7, 2, 0, 0, 7, 1, 3, 4, 4, 6, 1, 4, 7, 6, 9, 7, 5,\n",
       "       6, 9, 3, 6, 2, 9, 3, 1, 8, 7, 0, 2, 6, 5, 1, 8, 0, 4, 0, 5, 4, 6,\n",
       "       7, 8, 5, 6, 5, 6, 8, 6, 5, 1, 8, 4, 2, 3, 3, 4, 8, 5, 0, 6, 6, 7,\n",
       "       8, 0, 4, 4, 7, 2, 9, 3, 7, 8, 5, 8, 2, 3, 0, 8, 2, 7, 5, 8, 6, 7,\n",
       "       4, 7, 2, 4, 3, 6, 7, 4, 2, 9, 6, 2, 9, 7, 6, 7, 0, 9, 6, 1, 4, 0,\n",
       "       0, 4, 8, 2, 7, 8, 4, 7, 1, 4, 0, 0, 9, 5, 9, 2, 5, 4, 8, 3, 3, 7,\n",
       "       1, 0, 2, 9, 3, 3, 5, 9, 4, 8, 2, 5, 5, 8, 0, 9, 7, 4, 4, 7, 7, 4,\n",
       "       7, 4, 2, 8, 3, 6, 1, 9, 2, 3, 1, 4, 4, 2, 5, 8, 2, 9, 6, 2, 5, 2,\n",
       "       6, 7, 9, 8, 6, 8, 2, 5, 4, 4, 7, 5, 0, 8, 7, 4, 7, 7, 5, 4, 1, 0,\n",
       "       2, 3, 7, 5, 5, 6, 4])"
      ]
     },
     "execution_count": 8,
     "metadata": {},
     "output_type": "execute_result"
    }
   ],
   "source": [
    "# X、y拆分为训练数据集、预测数据集\n",
    "from playML.model_selection import train_test_split\n",
    "X_train, X_test, y_train, y_test = train_test_split(X, y, test_ratio=0.2)\n",
    "\n",
    "# 使用自己的kNN算法\n",
    "from playML.kNN import KNNClassifier\n",
    "# 初始化算法\n",
    "my_knn_clf = KNNClassifier(k=3)\n",
    "# 喂给算法训练数据\n",
    "my_knn_clf.fit(X_train, y_train)\n",
    "# 使用测试数据预测结果\n",
    "y_predict = my_knn_clf.predict(X_test)\n",
    "# 预测结果\n",
    "y_predict\n"
   ]
  },
  {
   "cell_type": "code",
   "execution_count": 9,
   "metadata": {},
   "outputs": [
    {
     "data": {
      "text/plain": [
       "0.9888579387186629"
      ]
     },
     "execution_count": 9,
     "metadata": {},
     "output_type": "execute_result"
    }
   ],
   "source": [
    "# knn算法分类准确度\n",
    "sum(y_predict == y_test)/len(y_test)"
   ]
  },
  {
   "cell_type": "code",
   "execution_count": 10,
   "metadata": {},
   "outputs": [
    {
     "data": {
      "text/plain": [
       "0.9888579387186629"
      ]
     },
     "execution_count": 10,
     "metadata": {},
     "output_type": "execute_result"
    }
   ],
   "source": [
    "# 将计算准确度的代码封装成一个方法\n",
    "from playML.metrics import accuracy_score\n",
    "\n",
    "accuracy_score(y_test, y_predict)"
   ]
  },
  {
   "cell_type": "code",
   "execution_count": 11,
   "metadata": {},
   "outputs": [
    {
     "data": {
      "text/plain": [
       "0.9888579387186629"
      ]
     },
     "execution_count": 11,
     "metadata": {},
     "output_type": "execute_result"
    }
   ],
   "source": [
    "# 将精准度计算代码封装到类中\n",
    "my_knn_clf.score(X_test, y_test)"
   ]
  },
  {
   "cell_type": "markdown",
   "metadata": {},
   "source": [
    "# scikit-learn中的accuracy_score"
   ]
  },
  {
   "cell_type": "code",
   "execution_count": 12,
   "metadata": {},
   "outputs": [
    {
     "data": {
      "text/plain": [
       "0.9888888888888889"
      ]
     },
     "execution_count": 12,
     "metadata": {},
     "output_type": "execute_result"
    }
   ],
   "source": [
    "from sklearn.model_selection import train_test_split\n",
    "X_train, X_test, y_train, y_test = train_test_split(X, y, test_size=0.2)\n",
    "\n",
    "from sklearn.neighbors import KNeighborsClassifier\n",
    "knn_clf=KNeighborsClassifier(n_neighbors=3)\n",
    "knn_clf.fit(X_train, y_train)\n",
    "\n",
    "y_predict = knn_clf.predict(X_test)\n",
    "\n",
    "from sklearn.metrics import accuracy_score\n",
    "accuracy_score(y_test, y_predict)"
   ]
  },
  {
   "cell_type": "code",
   "execution_count": 14,
   "metadata": {},
   "outputs": [
    {
     "data": {
      "text/plain": [
       "0.9888888888888889"
      ]
     },
     "execution_count": 14,
     "metadata": {},
     "output_type": "execute_result"
    }
   ],
   "source": [
    "knn_clf.score(X_test, y_test)"
   ]
  },
  {
   "cell_type": "code",
   "execution_count": null,
   "metadata": {},
   "outputs": [],
   "source": []
  }
 ],
 "metadata": {
  "kernelspec": {
   "display_name": "Python 3",
   "language": "python",
   "name": "python3"
  },
  "language_info": {
   "codemirror_mode": {
    "name": "ipython",
    "version": 3
   },
   "file_extension": ".py",
   "mimetype": "text/x-python",
   "name": "python",
   "nbconvert_exporter": "python",
   "pygments_lexer": "ipython3",
   "version": "3.7.4"
  }
 },
 "nbformat": 4,
 "nbformat_minor": 2
}
